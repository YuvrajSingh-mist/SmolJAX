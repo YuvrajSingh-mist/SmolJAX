{
 "cells": [
  {
   "cell_type": "code",
   "execution_count": 1,
   "id": "151fd62f",
   "metadata": {},
   "outputs": [
    {
     "name": "stderr",
     "output_type": "stream",
     "text": [
      "/opt/miniconda3/envs/trainLLM/lib/python3.10/site-packages/tqdm/auto.py:21: TqdmWarning: IProgress not found. Please update jupyter and ipywidgets. See https://ipywidgets.readthedocs.io/en/stable/user_install.html\n",
      "  from .autonotebook import tqdm as notebook_tqdm\n"
     ]
    }
   ],
   "source": [
    "import jax\n",
    "import jax.numpy as jnp\n",
    "import flax.linen as nn\n",
    "from flax.training import train_state\n",
    "from flax import struct\n",
    "import optax\n",
    "import numpy as np\n",
    "from typing import Optional, Tuple, Any\n",
    "import math\n",
    "from datasets import load_dataset\n",
    "from torch.utils.data import DataLoader, Dataset\n",
    "import torch\n",
    "from transformers import AutoTokenizer\n",
    "import os\n",
    "from tqdm import tqdm"
   ]
  },
  {
   "cell_type": "code",
   "execution_count": 2,
   "id": "d012c592",
   "metadata": {},
   "outputs": [],
   "source": [
    "# Configuration class for model parameters\n",
    "from dataclasses import dataclass\n",
    "\n",
    "@dataclass\n",
    "class GPTConfig:\n",
    "    vocab_size: int = 50257\n",
    "    max_seq_len: int = 1024\n",
    "    d_model: int = 768\n",
    "    num_layers: int = 12\n",
    "    num_heads: int = 12\n",
    "    d_ff: int = 3072\n",
    "    dropout_rate: float = 0.1\n",
    "\n",
    "config = GPTConfig()"
   ]
  },
  {
   "cell_type": "code",
   "execution_count": 13,
   "id": "16494b05",
   "metadata": {},
   "outputs": [],
   "source": [
    "class Attention(nn.Module):\n",
    "    d_model: int = config.d_model\n",
    "    num_heads: int = config.num_heads\n",
    "    dropout_rate: float = config.dropout_rate\n",
    "    \n",
    "    def setup(self):\n",
    "        self.head_size = self.d_model // self.num_heads\n",
    "        self.d_Q = nn.Dense(features=self.head_size, use_bias=False)\n",
    "        self.d_K = nn.Dense(features=self.head_size, use_bias=False)\n",
    "        self.d_V = nn.Dense(features=self.head_size, use_bias=False)\n",
    "        self.d_O = nn.Dense(features=self.d_model, use_bias=False)\n",
    "        self.dropout = nn.Dropout(self.dropout_rate)\n",
    "        \n",
    "    def __call__(self, x, training=True):\n",
    "            B,T,C = x.shape\n",
    "            query = self.d_Q(x)\n",
    "            key = self.d_K(x)\n",
    "            value = self.d_V(x)\n",
    "            \n",
    "            weights = jnp.matmul(query, key.transpose(0,2, 1)) * (key.shape[-1] ** -0.5)\n",
    "            mask = jnp.tril(jnp.ones((128,128)))\n",
    "            mask = jnp.where(mask==0, -1e9, 1.0)\n",
    "            weights = weights + mask\n",
    "            weights = nn.softmax(weights, axis=-1)\n",
    "            out = jnp.matmul(weights, value)\n",
    "            out = self.d_O(out)\n",
    "            out = self.dropout(out, deterministic=not training)\n",
    "            return out"
   ]
  },
  {
   "cell_type": "code",
   "execution_count": 11,
   "id": "9c23bba3",
   "metadata": {},
   "outputs": [],
   "source": [
    "mask = jnp.tril(jnp.ones((128,128)))\n",
    "mask = jnp.where(mask==0, -1e9, 1.0)"
   ]
  },
  {
   "cell_type": "code",
   "execution_count": 12,
   "id": "fa5c50c8",
   "metadata": {},
   "outputs": [
    {
     "data": {
      "text/plain": [
       "Array([[ 1.e+00, -1.e+09, -1.e+09, ..., -1.e+09, -1.e+09, -1.e+09],\n",
       "       [ 1.e+00,  1.e+00, -1.e+09, ..., -1.e+09, -1.e+09, -1.e+09],\n",
       "       [ 1.e+00,  1.e+00,  1.e+00, ..., -1.e+09, -1.e+09, -1.e+09],\n",
       "       ...,\n",
       "       [ 1.e+00,  1.e+00,  1.e+00, ...,  1.e+00, -1.e+09, -1.e+09],\n",
       "       [ 1.e+00,  1.e+00,  1.e+00, ...,  1.e+00,  1.e+00, -1.e+09],\n",
       "       [ 1.e+00,  1.e+00,  1.e+00, ...,  1.e+00,  1.e+00,  1.e+00]],      dtype=float32, weak_type=True)"
      ]
     },
     "execution_count": 12,
     "metadata": {},
     "output_type": "execute_result"
    }
   ],
   "source": [
    "mask"
   ]
  },
  {
   "cell_type": "code",
   "execution_count": 29,
   "id": "60072f9a",
   "metadata": {},
   "outputs": [],
   "source": [
    "\n",
    "\n",
    "def test_attention():\n",
    "    attn = Attention()\n",
    "    x = jnp.ones((2, 128, config.d_model))\n",
    "    rng = jax.random.PRNGKey(0)\n",
    "    params = attn.init(rng, x, training=True)\n",
    "    out = attn.apply(params, x, training=True, rngs={'dropout': jax.random.PRNGKey(1)})\n",
    "    \n",
    "     # Check shape\n",
    "    assert out.shape == x.shape, f\"Expected {x.shape}, got {out.shape}\"\n",
    "        # assert out.shape == x.shape\n",
    "    print(\"Shape test passed!\", out.shape)\n",
    "    "
   ]
  },
  {
   "cell_type": "code",
   "execution_count": 30,
   "id": "af9d5276",
   "metadata": {},
   "outputs": [
    {
     "name": "stdout",
     "output_type": "stream",
     "text": [
      "Shape test passed! (2, 128, 768)\n"
     ]
    }
   ],
   "source": [
    "test_attention()"
   ]
  },
  {
   "cell_type": "code",
   "execution_count": 24,
   "id": "1fd804b6",
   "metadata": {},
   "outputs": [],
   "source": [
    "class MLP(nn.Module):\n",
    "    d_model: int = config.d_model\n",
    "    d_ff: int = config.d_ff\n",
    "    dropout_rate: float = config.dropout_rate\n",
    "    \n",
    "    def setup(self):\n",
    "        self.fc1 = nn.Dense(features=self.d_ff)\n",
    "        self.fc2 = nn.Dense(features=self.d_model)\n",
    "        self.dropout = nn.Dropout(self.dropout_rate)\n",
    "        \n",
    "    def __call__(self, x, training=True):\n",
    "        x = self.fc1(x)\n",
    "        x = nn.gelu(x)\n",
    "        x = self.fc2(x)\n",
    "        x = nn.gelu(x)\n",
    "        x = self.dropout(x, deterministic=not training)\n",
    "        return x"
   ]
  },
  {
   "cell_type": "code",
   "execution_count": 27,
   "id": "eeb03796",
   "metadata": {},
   "outputs": [],
   "source": [
    "\n",
    "\n",
    "def test_mlp():\n",
    "    mlp = MLP()\n",
    "    x = jnp.ones((2, 128, config.d_model))\n",
    "    rng = jax.random.PRNGKey(0)\n",
    "    params = mlp.init(rng, x, training=True)\n",
    "    out = mlp.apply(params, x, training=True, rngs={'dropout': jax.random.PRNGKey(1)})\n",
    "    \n",
    "     # Check shape\n",
    "    assert out.shape == x.shape, f\"Expected {x.shape}, got {out.shape}\"\n",
    "        # assert out.shape == x.shape\n",
    "    print(\"Shape test passed!\", out.shape)\n",
    "    "
   ]
  },
  {
   "cell_type": "code",
   "execution_count": 28,
   "id": "d8ccb08b",
   "metadata": {},
   "outputs": [
    {
     "name": "stdout",
     "output_type": "stream",
     "text": [
      "Shape test passed! (2, 128, 768)\n"
     ]
    }
   ],
   "source": [
    "test_mlp()"
   ]
  },
  {
   "cell_type": "code",
   "execution_count": null,
   "id": "c1b2a846",
   "metadata": {},
   "outputs": [],
   "source": []
  }
 ],
 "metadata": {
  "kernelspec": {
   "display_name": "trainLLM",
   "language": "python",
   "name": "python3"
  },
  "language_info": {
   "codemirror_mode": {
    "name": "ipython",
    "version": 3
   },
   "file_extension": ".py",
   "mimetype": "text/x-python",
   "name": "python",
   "nbconvert_exporter": "python",
   "pygments_lexer": "ipython3",
   "version": "3.10.11"
  }
 },
 "nbformat": 4,
 "nbformat_minor": 5
}
